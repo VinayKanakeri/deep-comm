{
 "cells": [
  {
   "cell_type": "code",
   "execution_count": null,
   "metadata": {},
   "outputs": [],
   "source": [
    "import commpy\n",
    "import numpy as np\n",
    "import scipy.interpolate \n",
    "#import tensorflow as tf\n",
    "import math\n",
    "import matplotlib.pyplot as plt\n",
    "import os"
   ]
  },
  {
   "cell_type": "markdown",
   "metadata": {},
   "source": [
    "#### Steps to simulate a coounication system\n",
    "\n",
    "1. Bit Stream\n",
    "1. Symbol Mapper\n",
    "1. Transmitter\n",
    "1. Channel\n",
    "1. Estimator\n",
    "1. Decoder"
   ]
  },
  {
   "cell_type": "code",
   "execution_count": null,
   "metadata": {},
   "outputs": [],
   "source": [
    "K = 64  # Number of carriers\n",
    "CP = 16 # Cyclic Prefix\n",
    "P = 4 # Carriers used for Pilot Symbols used\n",
    "# Total of 48 sub carriers are available for data symbols"
   ]
  },
  {
   "cell_type": "code",
   "execution_count": null,
   "metadata": {},
   "outputs": [],
   "source": [
    "def gen_bits(size):\n",
    "    return np.random.randint(2,size=(size,))"
   ]
  },
  {
   "cell_type": "code",
   "execution_count": null,
   "metadata": {},
   "outputs": [],
   "source": [
    "def OFDM_IFFT(symbol):\n",
    "    return np.fft.ifft(symbol)\n",
    "def OFDM_FFT(symbol):\n",
    "    return np.fft.fft(symbol)\n",
    "def addCP(x, len_cp):\n",
    "    cp= x[-len_cp:]\n",
    "    return np.append(cp,x)"
   ]
  },
  {
   "cell_type": "code",
   "execution_count": null,
   "metadata": {},
   "outputs": [],
   "source": [
    "data_bits=gen_bits(48*2)  # Genrating the data bits to map it onto 48 subcarrier using QPSK\n",
    "zero_bits = np.zeros((12*2,), dtype=int)  # Zero bits for inter-channel interference, something A.Goldsmith mentions\n",
    "pilot_bits = np.zeros((4*2,), dtype = int) # Generating Pilot based bits\n",
    "bit_frame = np.concatenate((pilot_bits,zero_bits,data_bits)) # One complete bit frame "
   ]
  },
  {
   "cell_type": "code",
   "execution_count": null,
   "metadata": {},
   "outputs": [],
   "source": [
    "QAM = commpy.QAMModem(4) # Creating QAM object for 4 symbol map i.e. 2 bits mapped onto each symbol\n",
    "X=QAM.modulate(bit_frame) # Creating the Symbols from the bits, len = 64"
   ]
  },
  {
   "cell_type": "code",
   "execution_count": null,
   "metadata": {},
   "outputs": [],
   "source": [
    "## Generating the OFDM frame with CP ###\n",
    "x = OFDM_IFFT(X)\n",
    "OFDM_frame= addCP(x,len_cp=16)"
   ]
  },
  {
   "cell_type": "code",
   "execution_count": null,
   "metadata": {},
   "outputs": [],
   "source": [
    "### generating the channel ##\n",
    "def rayleigh_channel(msg,ebno):\n",
    "    ebno_lin = np.power(10,((ebno)/10)) \n",
    "    sigma = np.sqrt(1/(2*ebno_lin))\n",
    "    h = (np.random.normal(0.0, 1.0, msg.shape) + 1j*np.random.normal(0.0, 1.0, msg.shape))/np.sqrt(2)\n",
    "    n = (np.random.normal(0.0, sigma, msg.shape) + 1j*np.random.normal(0.0, sigma, msg.shape))/np.sqrt(2)\n",
    "\n",
    "    return (np.multiply(msg,h) + n,h)"
   ]
  },
  {
   "cell_type": "code",
   "execution_count": null,
   "metadata": {},
   "outputs": [],
   "source": [
    "channel_out,h = rayleigh_channel(OFDM_frame,10) # Energy per bit  "
   ]
  },
  {
   "cell_type": "code",
   "execution_count": null,
   "metadata": {},
   "outputs": [],
   "source": [
    "Y_removeCP=channel_out[CP:]\n",
    "y=OFDM_FFT(Y_removeCP)"
   ]
  }
 ],
 "metadata": {
  "kernelspec": {
   "display_name": "Python 3",
   "language": "python",
   "name": "python3"
  },
  "language_info": {
   "codemirror_mode": {
    "name": "ipython",
    "version": 3
   },
   "file_extension": ".py",
   "mimetype": "text/x-python",
   "name": "python",
   "nbconvert_exporter": "python",
   "pygments_lexer": "ipython3",
   "version": "3.7.5"
  }
 },
 "nbformat": 4,
 "nbformat_minor": 4
}
