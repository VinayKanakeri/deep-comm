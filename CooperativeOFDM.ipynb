{
 "cells": [
  {
   "cell_type": "code",
   "execution_count": null,
   "metadata": {},
   "outputs": [],
   "source": [
    "import commpy\n",
    "import numpy as np\n",
    "import scipy.interpolate \n",
    "#import tensorflow as tf\n",
    "import math\n",
    "import matplotlib.pyplot as plt\n",
    "import os"
   ]
  },
  {
   "cell_type": "markdown",
   "metadata": {},
   "source": [
    "#### Steps to simulate a coounication system\n",
    "\n",
    "1. Bit Stream\n",
    "1. Symbol Mapper\n",
    "1. Transmitter\n",
    "1. Channel\n",
    "1. Estimator\n",
    "1. Decoder"
   ]
  },
  {
   "cell_type": "markdown",
   "metadata": {},
   "source": [
    "#### Things to be decided and fixed across all the simulations :\n",
    "\n",
    "1. Bandwidth of the signal to be used: From Andrea Goldsmith example of 20MHz is used for all the subcarriers combines. We can use the same.\n",
    "\n",
    "1. Frequency range of operation : (?)"
   ]
  },
  {
   "cell_type": "code",
   "execution_count": null,
   "metadata": {},
   "outputs": [],
   "source": [
    "K = 64  # Number of carriers\n",
    "CP = 16 # Cyclic Prefix\n",
    "P = 4 # Carriers used for Pilot Symbols used\n",
    "# Total of 48 sub carriers are available for data symbols"
   ]
  },
  {
   "cell_type": "code",
   "execution_count": null,
   "metadata": {},
   "outputs": [],
   "source": [
    "def gen_bits(size):\n",
    "    return np.random.randint(2,size=(size,))"
   ]
  },
  {
   "cell_type": "code",
   "execution_count": null,
   "metadata": {},
   "outputs": [],
   "source": [
    "def OFDM_IFFT(symbol):\n",
    "    return np.fft.ifft(symbol)\n",
    "def OFDM_FFT(symbol):\n",
    "    return np.fft.fft(symbol)\n",
    "def addCP(x, len_cp):\n",
    "    cp= x[-len_cp:]\n",
    "    return np.append(cp,x)"
   ]
  },
  {
   "cell_type": "code",
   "execution_count": null,
   "metadata": {},
   "outputs": [],
   "source": [
    "data_bits=gen_bits(48*2)  # Genrating the data bits to map it onto 48 subcarrier using QPSK\n",
    "zero_bits = np.zeros((12*2,), dtype=int)  # Zero bits for inter-channel interference, something A.Goldsmith mentions\n",
    "pilot_bits = np.zeros((4*2,), dtype = int) # Generating Pilot based bits\n",
    "bit_frame = np.concatenate((pilot_bits,zero_bits,data_bits)) # One complete bit frame "
   ]
  },
  {
   "cell_type": "code",
   "execution_count": null,
   "metadata": {},
   "outputs": [],
   "source": [
    "QAM = commpy.QAMModem(4) # Creating QAM object for 4 symbol map i.e. 2 bits mapped onto each symbol\n",
    "X=QAM.modulate(bit_frame) # Creating the Symbols from the bits, len = 64"
   ]
  },
  {
   "cell_type": "code",
   "execution_count": null,
   "metadata": {},
   "outputs": [],
   "source": [
    "## Generating the OFDM frame with CP ###\n",
    "x = OFDM_IFFT(X)\n",
    "OFDM_frame= addCP(x,len_cp=16)"
   ]
  },
  {
   "cell_type": "markdown",
   "metadata": {},
   "source": [
    "### Creating the Channel \n",
    "\n",
    "#### Two main things are required to create the channell array :\n",
    "\n",
    "1. Type of Small scale fading model i.e. Rayleigh (NLOS), Rician (LOS) or Nakagami (NLOS + LOS)\n",
    "1. Power Delay Profile ( Default taken as exponential)\n",
    "\n",
    "##### Creating the channel array \n",
    "\n",
    "1. The length of the channel array depends on the value of the maximum delay of the channel i.e. if the maximum delay is 8*$ T_{s}$, where $T_{s}$ is the sampling frequency, then the channel length will be of 9 elements. To decide the maximum delay IEEE 802.11 model tells us\n",
    "$$n_{max} = [10*\\frac{\\sigma_{\\tau}}{T_{s}}] $$\n",
    "where $\\sigma_{\\tau}$ is the delay spread.\n",
    "\n",
    "1. The power of the channel taps are given by the exponential distribution for the 802.11 model. \n",
    "\n",
    "Note : The number of channel taps is not the length of the channel array. The length is completely dependant on the maximum delay value, the intermediate values between the channel taps are padded with zeroes.\n"
   ]
  },
  {
   "cell_type": "code",
   "execution_count": null,
   "metadata": {},
   "outputs": [],
   "source": [
    "### Example of channel array taken from the MIMO-OFDM cho book ###\n",
    "\n",
    "delay = np.array([0, 3, 5, 6, 8])  # Number of taps taken as five\n",
    "power_dB = np.array([0, -8, -17, -21, -25]) # Comparative power values wrt no dela signal, exponential distribution\n",
    "taps = len(delay)\n",
    "l_h = delay[-1]+1 # Length of channel array \n",
    "\n",
    "h_taps = (np.random.rand(1,taps))+ 1j*np.random.rand(1,taps)*np.power(np.power(10,power_dB/10)/2,0.5) # Creating the channel \n",
    "#taps for rayleigh fading with the given power profile, the divided by 2 is for each real and imaginary part.\n",
    "h= np.zeros(l_h ,dtype = 'complex') # Initializing the channel time domain array\n",
    "\n",
    "h[delay]=h_taps"
   ]
  },
  {
   "cell_type": "code",
   "execution_count": 25,
   "metadata": {},
   "outputs": [],
   "source": [
    "def channel_output(x,h,SNR,ch_type=1):\n",
    "    \n",
    "    '''\n",
    "    Provides the output of the channel after the signal has passed through it\n",
    "    x: Input signal\n",
    "    h: Channel vector\n",
    "    ch_type : Flat fading channel (0) or Frequency Selective Channel (1)\n",
    "    SNR : To determine the output noise power\n",
    "    '''\n",
    "    \n",
    "    if (ch_type == 0):\n",
    "        y= h*x\n",
    "    else :\n",
    "        y= np.convolve(h,x)\n",
    "    \n",
    "    sig_pow = np.sum(y**2)\n",
    "    noise_mag = np.power(np.power(10,(-1*SNR)/10) * sig_pow/2,0.5)\n",
    "    noise = (np.random.rand(1,len(y)) + 1j*np.random.rand(1,len(y))) * noise_mag\n",
    "    \n",
    "    return y + noise"
   ]
  },
  {
   "cell_type": "markdown",
   "metadata": {},
   "source": [
    "### Cooperative OFDM \n",
    "\n",
    "1. Source\n",
    "1. Relay\n",
    "1. Destination\n",
    "\n",
    "##### Protocol used for sending information\n",
    "\n",
    "1. MultiHop (MxF) : First time slot S->R, second time slot R->D\n",
    "1. Split Combine : in the first timeslot, the source transmits and only the relay is listening (just as in MxF). In the second timeslot, both source and relay transmit, and the destination is listening.\n",
    "1. Diversity : in the first timeslot, the source transmits and both relay and destination are listening. In the second timeslot, only the relay is transmitting and the destination is listening. Thus, the destination gets two copies of the original signal.\n",
    "\n",
    "##### Different Relay Methods we can use\n",
    "\n",
    "1. Ampilify and Forward : The signal from the source node is received which is amplified by the following factor and then forwarded to the destination.\n",
    "\n",
    "$$ A = \\sqrt\\frac{P_{R}}{P_{S}*h_{SR}^2 + P_{N}}  $$\n",
    "\n",
    "The amplification taken is the limiting maximum value. "
   ]
  }
 ],
 "metadata": {
  "kernelspec": {
   "display_name": "Python 3",
   "language": "python",
   "name": "python3"
  },
  "language_info": {
   "codemirror_mode": {
    "name": "ipython",
    "version": 3
   },
   "file_extension": ".py",
   "mimetype": "text/x-python",
   "name": "python",
   "nbconvert_exporter": "python",
   "pygments_lexer": "ipython3",
   "version": "3.7.5"
  }
 },
 "nbformat": 4,
 "nbformat_minor": 4
}
