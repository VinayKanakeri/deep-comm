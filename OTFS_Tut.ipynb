{
 "cells": [
  {
   "cell_type": "markdown",
   "metadata": {},
   "source": [
    "### OTFS Modulation Scheme\n",
    "\n",
    "The Orthogonal Frequency Time Space (OTFS) is a modulation scheme used to improve and tackle the problems which traditional OFDM systems cannot. This is done by shifting the analysis and synthesis operations to the delay-doppler domain.\n"
   ]
  },
  {
   "cell_type": "code",
   "execution_count": null,
   "metadata": {},
   "outputs": [],
   "source": [
    "import commpy\n",
    "import numpy as np\n",
    "import matplotlib.pyplot as plt"
   ]
  },
  {
   "cell_type": "markdown",
   "metadata": {},
   "source": [
    "### OTFS Block Diagram\n",
    "\n",
    "The entire process of OTFS can be summarized by the following block diagram :\n",
    "\n",
    "<img src=\"Figures/OTFS_image.PNG\" width=\"240*4\" height=\"240*4\" align=\"center\"/>\n",
    "\n",
    "<i> Orthogonal Time Frequency Space (OTFS) Modulation\n",
    "and Applications,Tutorial at SPCOM 2020, IISc, Bangalore, July, 2020\n",
    "Yi Hong, Emanuele Viterbo, Raviteja Patchava </i>\n",
    "\n",
    "As shown in the above block diagram we can breakdown the OTFS scheme into the following steps :\n",
    "\n",
    "1. Generation of symbols (QPSK,QAM etc.,) these are automatically assumed to be in the delay-doppler domain.\n",
    "1. Conversion of these symbols into the time-frequency domain : ISFFT\n",
    "1. Time-frequency domain to time domain i.e. transmission signal s(t) : Heisenberg Transform\n",
    "1. Transmission over channel : Channel modelled in delay-doppler domain\n",
    "1. Received signal converted into time-frequency domain using Wigner transform done through matched filtering.\n",
    "1. Time frequency domain to delay doppler domain using SFFT."
   ]
  },
  {
   "cell_type": "markdown",
   "metadata": {},
   "source": [
    "### Building the system in the discrete domain\n",
    "\n",
    "![Matrix](Figures/OTFS_matrix.PNG)\n",
    "<i> Orthogonal Time Frequency Space (OTFS) Modulation\n",
    "and Applications,Tutorial at SPCOM 2020, IISc, Bangalore, July, 2020\n",
    "Yi Hong, Emanuele Viterbo, Raviteja Patchava </i>\n"
   ]
  },
  {
   "cell_type": "code",
   "execution_count": null,
   "metadata": {},
   "outputs": [],
   "source": [
    "def gen_bits(size):\n",
    "    return np.random.randint(2,size=(size,))"
   ]
  },
  {
   "cell_type": "code",
   "execution_count": null,
   "metadata": {},
   "outputs": [],
   "source": [
    "M = 2048 # Number of points in the delay domain\n",
    "N=  128  # Number of points in the doppler domain\n",
    "\n",
    "total_symbols = M*N # Total Number of symbols that are required to be genrated for the given M and N\n",
    "no_bits = 2*total_symbols # 4-QAM modulation is chosen i.e. 2 bits for every symbol\n",
    "\n",
    "bits = gen_bits(no_bits) # Generating the information bits stream\n",
    "QAM = commpy.QAMModem(4) # Creating the 4-QAM object\n",
    "sym = QAM.modulate(bits) # Modulating the input bit stream into symbols"
   ]
  },
  {
   "cell_type": "code",
   "execution_count": null,
   "metadata": {},
   "outputs": [],
   "source": [
    "sym_delay_dop = np.reshape(sym,(M,N))               # Constructing the symbol matrix\n",
    "sym_delay_time = np.zeros((M,N), dtype = 'complex') # Initialising the delay time matrix \n",
    "\n",
    "for i in range(M) :                                 # Creating the delay timematrix by taking row wise fft            \n",
    "    sym_delay_time[i,:] = np.fft.fft(sym_delay_dop[i,:])                    "
   ]
  },
  {
   "cell_type": "code",
   "execution_count": null,
   "metadata": {},
   "outputs": [],
   "source": [
    "## Parallel to Serial Convertor\n",
    "CP = 16  # Number of cyclic prefix added as a gaurd interval to prevent ISI \n",
    "x = np.zeros((M*N,), dtype = 'complex') # Creating the transmission array after P/S\n",
    "x_CP = np.zeros((M*N + CP,), dtype = 'complex') # Adding CP \n",
    "for i in range(N):\n",
    "    x[M*i:M*(i+1)] = sym_delay_time[:,i]\n",
    "x_CP[:-CP] = x[::-1] # Reversing the x since we want the first symbol transmitted to be N=0 and not N=128\n",
    "x_CP[-CP:] = x_CP[:CP] # Adding the cyclic prefix "
   ]
  },
  {
   "cell_type": "markdown",
   "metadata": {},
   "source": [
    "### Creating the Channel \n",
    "\n",
    "We now need to model the channel in the delay doppler domain. The following have to be decided to construct the channel : \n",
    "\n",
    "1. Number of taps : 5 taps\n",
    "1. Channel model : Rayleigh\n",
    "1. Power Delay Profile : Exponential i.e. IEEE 802.11\n"
   ]
  },
  {
   "cell_type": "code",
   "execution_count": null,
   "metadata": {},
   "outputs": [],
   "source": [
    "def ieee802_11_model(sigma_tau,Ts):\n",
    "\n",
    "    '''\n",
    "    IEEE 802.11 channel model PDP generator\n",
    "    Input:\n",
    "       sigma_tau  : RMS delay spread\n",
    "       Ts         : Sampling time\n",
    "    Output:\n",
    "       PDP        : Power delay profile\n",
    "\n",
    "    MIMO-OFDM Wireless Communications with MATLAB¢ç   Yong Soo Cho, Jaekwon Kim, Won Young Yang and Chung G. Kang\n",
    "    2010 John Wiley & Sons (Asia) Pte Ltd\n",
    "    '''\n",
    "\n",
    "    lmax = int(np.ceil(10*sigma_tau/Ts))\n",
    "    sigma02=(1-np.exp(-Ts/sigma_tau))/(1-np.exp(-(lmax+1)*Ts/sigma_tau))\n",
    "    l=np.array(range(lmax))\n",
    "    PDP = sigma02*np.exp(-l*Ts/sigma_tau)\n",
    "\n",
    "    return PDP\n",
    "\n",
    "def OTFS_channel_gen(PDP=0, sigma_tau= 25*1e-9,Ts=50*1e-9): # I am not sure how to create the doppler array for channel \n",
    "                             #i am just taking what the SPCOM code is taking\n",
    "    '''\n",
    "    PDP = 0 : Uniform power delay profile\n",
    "    PDP = 1 : IEEE 802.11 power delay profile\n",
    "    \n",
    "    sigma_tau : RMS Delay Spread\n",
    "    Ts : Sampling period\n",
    "    '''\n",
    "    if(PDP == 1):\n",
    "        PDP = ieee802_11_model(sigma_tau,Ts)\n",
    "        taps = len(PDP)\n",
    "        delay = np.array(range(taps))\n",
    "        doppler = np.array(range(taps))\n",
    "        channel_coeff = (np.random.rand(taps,))+ 1j*np.random.rand(taps,)*np.power(PDP,0.5)\n",
    "    else :\n",
    "        taps = 4\n",
    "        delay = np.array(range(taps))\n",
    "        doppler = np.array(range(taps))\n",
    "        PDP = np.ones((1,taps))/taps\n",
    "        channel_coeff = (np.random.rand(taps,))+ 1j*np.random.rand(taps,)*np.power(PDP,0.5)\n",
    "    \n",
    "    return delay,doppler,channel_coeff"
   ]
  },
  {
   "cell_type": "code",
   "execution_count": null,
   "metadata": {},
   "outputs": [],
   "source": [
    "scale = 1e-9 \n",
    "Ts = 50*scale         # Sampling time for our system\n",
    "t_rms = 25*scale      # RMS delay spread\n",
    "\n",
    "delay,doppler,h = OTFS_channel_gen(PDP=1,sigma_tau=t_rms,Ts=Ts) # Creating the channel"
   ]
  },
  {
   "cell_type": "markdown",
   "metadata": {},
   "source": [
    "### Affect of the channel on the signal\n",
    "\n",
    "![reveived_sig](Figures/received_signal.PNG)\n",
    "\n",
    " <i> Orthogonal Time Frequency Space (OTFS) Modulation\n",
    "and Applications,Tutorial at SPCOM 2020, IISc, Bangalore, July, 2020\n",
    "Yi Hong, Emanuele Viterbo, Raviteja Patchava </i>"
   ]
  },
  {
   "cell_type": "code",
   "execution_count": null,
   "metadata": {},
   "outputs": [],
   "source": [
    "def noise_func(SNR,y):\n",
    "    \n",
    "    sig_pow = np.sum(y**2)\n",
    "    noise_mag = np.power(np.power(10,(-1*SNR)/10) * sig_pow/2,0.5)\n",
    "    noise = (np.random.rand(len(y),) + 1j*np.random.rand(len(y),)) * noise_mag\n",
    "    \n",
    "    return noise"
   ]
  },
  {
   "cell_type": "code",
   "execution_count": null,
   "metadata": {},
   "outputs": [],
   "source": [
    "\n",
    "r_n = np.zeros(x_CP.size)  # Initialising the received signal\n",
    "n= np.array(range(M*N+CP))\n",
    "for i in range(len(delay)):\n",
    "    r_n = r_n + h[i]*np.exp(1j*2*np.pi*doppler[i]*(n-delay[i]))*np.roll(x_CP,delay[i])\n",
    "\n",
    "noise = noise_func(SNR=20,y=r_n)\n",
    "\n",
    "y_n = r_n + noise"
   ]
  },
  {
   "cell_type": "markdown",
   "metadata": {},
   "source": [
    "#### Receving end processing\n",
    "\n",
    "1. Remove CP\n",
    "1. Zak transform (time delay) -> (doppler,delay)"
   ]
  },
  {
   "cell_type": "code",
   "execution_count": null,
   "metadata": {},
   "outputs": [],
   "source": [
    "## Constructing the time delay matrix\n",
    "y_n_withoutCP = y_n[:-CP]\n",
    "y_n_time_delay = np.reshape(y_n_withoutCP,(M,N))"
   ]
  },
  {
   "cell_type": "code",
   "execution_count": null,
   "metadata": {},
   "outputs": [],
   "source": [
    "### Conversion of the time delay matrix to doppler delay matrix\n",
    "y_delay_doppler = np.zeros((M,N),dtype='complex')\n",
    "for i in range(M) :\n",
    "    y_delay_doppler[i,:] = np.fft.ifft(y_n_time_delay[i,:])"
   ]
  }
 ],
 "metadata": {
  "kernelspec": {
   "display_name": "Python 3",
   "language": "python",
   "name": "python3"
  },
  "language_info": {
   "codemirror_mode": {
    "name": "ipython",
    "version": 3
   },
   "file_extension": ".py",
   "mimetype": "text/x-python",
   "name": "python",
   "nbconvert_exporter": "python",
   "pygments_lexer": "ipython3",
   "version": "3.7.5"
  }
 },
 "nbformat": 4,
 "nbformat_minor": 4
}
