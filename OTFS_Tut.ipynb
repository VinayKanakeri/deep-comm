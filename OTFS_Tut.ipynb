{
 "cells": [
  {
   "cell_type": "markdown",
   "metadata": {},
   "source": [
    "### OTFS Modulation Scheme\n",
    "\n",
    "The Orthogonal Frequency Time Space (OTFS) is a modulation scheme used to improve and tackle the problems which traditional OFDM systems cannot. This is done by shifting the analysis and synthesis operations to the delay-doppler domain.\n"
   ]
  },
  {
   "cell_type": "code",
   "execution_count": null,
   "metadata": {},
   "outputs": [],
   "source": [
    "import commpy\n",
    "import numpy as np\n",
    "import matplotlib.pyplot as plt"
   ]
  },
  {
   "cell_type": "markdown",
   "metadata": {},
   "source": [
    "### OTFS Block Diagram\n",
    "\n",
    "The entire process of OTFS can be summarized by the following block diagram :\n",
    "\n",
    "<img src=\"Figures/OTFS_image.PNG\" width=\"240*4\" height=\"240*4\" align=\"center\"/>\n",
    "\n",
    "<i> Orthogonal Time Frequency Space (OTFS) Modulation\n",
    "and Applications,Tutorial at SPCOM 2020, IISc, Bangalore, July, 2020\n",
    "Yi Hong, Emanuele Viterbo, Raviteja Patchava </i>\n",
    "\n",
    "As shown in the above block diagram we can breakdown the OTFS scheme into the following steps :\n",
    "\n",
    "1. Generation of symbols (QPSK,QAM etc.,) these are automatically assumed to be in the delay-doppler domain.\n",
    "1. Conversion of these symbols into the time-frequency domain : ISFFT\n",
    "1. Time-frequency domain to time domain i.e. transmission signal s(t) : Heisenberg Transform\n",
    "1. Transmission over channel : Channel modelled in delay-doppler domain\n",
    "1. Received signal converted into time-frequency domain using Wigner transform done through matched filtering.\n",
    "1. Time frequency domain to delay doppler domain using SFFT."
   ]
  },
  {
   "cell_type": "markdown",
   "metadata": {},
   "source": [
    "### Building the system in the discrete domain\n",
    "\n",
    "![Matrix](Figures/OTFS_matrix.PNG)"
   ]
  },
  {
   "cell_type": "code",
   "execution_count": null,
   "metadata": {},
   "outputs": [],
   "source": [
    "def gen_bits(size):\n",
    "    return np.random.randint(2,size=(size,))"
   ]
  },
  {
   "cell_type": "code",
   "execution_count": null,
   "metadata": {},
   "outputs": [],
   "source": [
    "M = 2048 # Number of points in the delay domain\n",
    "N=  128  # Number of points in the doppler domain\n",
    "\n",
    "total_symbols = M*N # Total Number of symbols that are required to be genrated for the given M and N\n",
    "no_bits = 2*total_symbols # 4-QAM modulation is chosen i.e. 2 bits for every symbol\n",
    "\n",
    "bits = gen_bits(no_bits) # Generating the information bits stream\n",
    "QAM = commpy.QAMModem(4) # Creating the 4-QAM object\n",
    "sym = QAM.modulate(bits) # Modulating the input bit stream into symbols"
   ]
  },
  {
   "cell_type": "code",
   "execution_count": null,
   "metadata": {},
   "outputs": [],
   "source": [
    "sym_delay_dop = np.reshape(sym,(M,N))               # Constructing the symbol matrix\n",
    "sym_delay_time = np.zeros((M,N), dtype = 'complex') # Initialising the delay time matrix \n",
    "\n",
    "for i in range(M) :                                 # Creating the delay timematrix by taking row wise fft            \n",
    "    sym_delay_time[i,:] = np.fft.fft(sym_delay_dop[i,:])                    "
   ]
  },
  {
   "cell_type": "code",
   "execution_count": null,
   "metadata": {},
   "outputs": [],
   "source": [
    "## Parallel to Serial Convertor\n",
    "CP = 16  # Number of cyclic prefix added as a gaurd interval to prevent ISI \n",
    "x = np.zeros((M*N,), dtype = 'complex') # Creating the transmission array after P/S\n",
    "x_CP = np.zeros((M*N + CP,), dtype = 'complex') # Adding CP \n",
    "for i in range(N):\n",
    "    x[M*i:M*(i+1)] = sym_delay_time[:,i]\n",
    "x_CP[:-CP] = x[::-1] # Reversing the x since we want the first symbol transmitted to be N=0 and not N=128\n",
    "x_CP[-CP:] = x_CP[:CP] # Adding the cyclic prefix "
   ]
  },
  {
   "cell_type": "markdown",
   "metadata": {},
   "source": [
    "### Creating the Channel \n",
    "\n",
    "We now need to model the channel in the delay doppler domain. The following have to be decided to construct the channel : \n",
    "\n",
    "1. Number of taps\n",
    "1. Channel model"
   ]
  },
  {
   "cell_type": "code",
   "execution_count": null,
   "metadata": {},
   "outputs": [],
   "source": []
  }
 ],
 "metadata": {
  "kernelspec": {
   "display_name": "Python 3",
   "language": "python",
   "name": "python3"
  },
  "language_info": {
   "codemirror_mode": {
    "name": "ipython",
    "version": 3
   },
   "file_extension": ".py",
   "mimetype": "text/x-python",
   "name": "python",
   "nbconvert_exporter": "python",
   "pygments_lexer": "ipython3",
   "version": "3.7.5"
  }
 },
 "nbformat": 4,
 "nbformat_minor": 4
}
